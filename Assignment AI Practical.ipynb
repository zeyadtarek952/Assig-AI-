{
 "cells": [
  {
   "cell_type": "code",
   "execution_count": 1,
   "id": "9079753b",
   "metadata": {},
   "outputs": [],
   "source": [
    "#importing_libraries\n",
    "import torch\n",
    "import torch.nn as nn\n",
    "import torch.nn.functional as F\n",
    "from torch.utils.data import DataLoader\n",
    "from torchvision import datasets, transforms"
   ]
  },
  {
   "cell_type": "code",
   "execution_count": 2,
   "id": "c1b06fde",
   "metadata": {},
   "outputs": [],
   "source": [
    "#create_data_loader\n",
    "batch_size = 64\n",
    "learning_rate = 0.001\n",
    "epochs = 5\n",
    "\n",
    "transform = transforms.Compose([\n",
    "    transforms.ToTensor(),\n",
    "    transforms.Normalize((0.1307,), (0.3081,))  \n",
    "])\n",
    "\n",
    "train_data = datasets.MNIST(root=\"data\", train=True, download=True, transform=transform)\n",
    "test_data = datasets.MNIST(root=\"data\", train=False, download=True, transform=transform)\n",
    "\n",
    "\n",
    "train_loader = DataLoader(train_data, batch_size=batch_size, shuffle=True)\n",
    "test_loader = DataLoader(test_data, batch_size=batch_size, shuffle=False)\n"
   ]
  },
  {
   "cell_type": "code",
   "execution_count": 3,
   "id": "f67558da",
   "metadata": {},
   "outputs": [],
   "source": [
    "#Building_and_defining_the_model\n",
    "class CNN(nn.Module):\n",
    "    def __init__(self):\n",
    "        super(CNN, self).__init__()\n",
    "       \n",
    "        self.conv1 = nn.Conv2d(in_channels=1, out_channels=32, kernel_size=3, stride=1, padding=1)\n",
    "        \n",
    "        self.relu1 = nn.ReLU()\n",
    "      \n",
    "        self.pool = nn.MaxPool2d(kernel_size=2, stride=2)\n",
    "\n",
    "        \n",
    "        self.conv2 = nn.Conv2d(in_channels=32, out_channels=64, kernel_size=3, stride=1, padding=1)\n",
    "        \n",
    "        self.relu2 = nn.ReLU()\n",
    "        \n",
    "        self.pool2 = nn.MaxPool2d(kernel_size=2, stride=2)\n",
    "\n",
    "        \n",
    "        self.dropout = nn.Dropout(p=0.25)  \n",
    "\n",
    "        \n",
    "        self.fc1 = nn.Linear(in_features=7 * 7 * 64, out_features=10)  # 7x7 output size after 2 max pooling layers\n",
    "\n",
    "\n",
    "    def forward(self, x):\n",
    "        \n",
    "        x = self.relu1(self.conv1(x))\n",
    "        x = self.pool(x)\n",
    "        x = self.relu2(self.conv2(x))\n",
    "        x = self.pool2(x)\n",
    "\n",
    "        \n",
    "        x = self.dropout(x)\n",
    "\n",
    "       \n",
    "        x = x.view(-1, x.size(1) * x.size(2) * x.size(3))\n",
    "        x = self.fc1(x)\n",
    "        \n",
    "        output = F.log_softmax(x, dim=1)\n",
    "        return output"
   ]
  },
  {
   "cell_type": "code",
   "execution_count": 4,
   "id": "2d10c75d",
   "metadata": {},
   "outputs": [],
   "source": [
    "model = CNN()"
   ]
  },
  {
   "cell_type": "code",
   "execution_count": 5,
   "id": "31b5e67c",
   "metadata": {},
   "outputs": [],
   "source": [
    "#define_loss_and_optimizer\n",
    "criterion = nn.CrossEntropyLoss()\n",
    "optimizer = torch.optim.Adam(model.parameters(), lr=learning_rate)"
   ]
  },
  {
   "cell_type": "code",
   "execution_count": 6,
   "id": "d0c6cf03",
   "metadata": {},
   "outputs": [
    {
     "name": "stdout",
     "output_type": "stream",
     "text": [
      "Epoch [1/5], Step [100/938], Loss: 0.1598\n",
      "Epoch [1/5], Step [200/938], Loss: 0.1283\n",
      "Epoch [1/5], Step [300/938], Loss: 0.0329\n",
      "Epoch [1/5], Step [400/938], Loss: 0.1601\n",
      "Epoch [1/5], Step [500/938], Loss: 0.0350\n",
      "Epoch [1/5], Step [600/938], Loss: 0.0233\n",
      "Epoch [1/5], Step [700/938], Loss: 0.1144\n",
      "Epoch [1/5], Step [800/938], Loss: 0.0594\n",
      "Epoch [1/5], Step [900/938], Loss: 0.0339\n",
      "Epoch [2/5], Step [100/938], Loss: 0.1440\n",
      "Epoch [2/5], Step [200/938], Loss: 0.0525\n",
      "Epoch [2/5], Step [300/938], Loss: 0.0267\n",
      "Epoch [2/5], Step [400/938], Loss: 0.0617\n",
      "Epoch [2/5], Step [500/938], Loss: 0.1157\n",
      "Epoch [2/5], Step [600/938], Loss: 0.0363\n",
      "Epoch [2/5], Step [700/938], Loss: 0.0102\n",
      "Epoch [2/5], Step [800/938], Loss: 0.1241\n",
      "Epoch [2/5], Step [900/938], Loss: 0.0194\n",
      "Epoch [3/5], Step [100/938], Loss: 0.0405\n",
      "Epoch [3/5], Step [200/938], Loss: 0.0112\n",
      "Epoch [3/5], Step [300/938], Loss: 0.0037\n",
      "Epoch [3/5], Step [400/938], Loss: 0.1139\n",
      "Epoch [3/5], Step [500/938], Loss: 0.0421\n",
      "Epoch [3/5], Step [600/938], Loss: 0.0167\n",
      "Epoch [3/5], Step [700/938], Loss: 0.0357\n",
      "Epoch [3/5], Step [800/938], Loss: 0.0517\n",
      "Epoch [3/5], Step [900/938], Loss: 0.0042\n",
      "Epoch [4/5], Step [100/938], Loss: 0.0333\n",
      "Epoch [4/5], Step [200/938], Loss: 0.0113\n",
      "Epoch [4/5], Step [300/938], Loss: 0.0308\n",
      "Epoch [4/5], Step [400/938], Loss: 0.0421\n",
      "Epoch [4/5], Step [500/938], Loss: 0.0024\n",
      "Epoch [4/5], Step [600/938], Loss: 0.0138\n",
      "Epoch [4/5], Step [700/938], Loss: 0.0197\n",
      "Epoch [4/5], Step [800/938], Loss: 0.0176\n",
      "Epoch [4/5], Step [900/938], Loss: 0.0057\n",
      "Epoch [5/5], Step [100/938], Loss: 0.0025\n",
      "Epoch [5/5], Step [200/938], Loss: 0.0169\n",
      "Epoch [5/5], Step [300/938], Loss: 0.1002\n",
      "Epoch [5/5], Step [400/938], Loss: 0.0528\n",
      "Epoch [5/5], Step [500/938], Loss: 0.0068\n",
      "Epoch [5/5], Step [600/938], Loss: 0.0209\n",
      "Epoch [5/5], Step [700/938], Loss: 0.0089\n",
      "Epoch [5/5], Step [800/938], Loss: 0.0230\n",
      "Epoch [5/5], Step [900/938], Loss: 0.0248\n"
     ]
    }
   ],
   "source": [
    "#training\n",
    "for epoch in range(epochs):\n",
    "    for i, (images, labels) in enumerate(train_loader):\n",
    "        # Forward pass\n",
    "        outputs = model(images)\n",
    "        loss = criterion(outputs, labels)\n",
    "\n",
    "        # Backward pass and parameter update\n",
    "        optimizer.zero_grad()\n",
    "        loss.backward()\n",
    "        optimizer.step()\n",
    "\n",
    "        if (i + 1) % 100 == 0:\n",
    "            print(f'Epoch [{epoch+1}/{epochs}], Step [{i+1}/{len(train_loader)}], Loss: {loss.item():.4f}')\n"
   ]
  },
  {
   "cell_type": "code",
   "execution_count": 7,
   "id": "fb27ebb7",
   "metadata": {},
   "outputs": [
    {
     "name": "stdout",
     "output_type": "stream",
     "text": [
      "Accuracy of the model on the test images: 98.85%\n"
     ]
    }
   ],
   "source": [
    "with torch.no_grad():\n",
    "    correct = 0\n",
    "    total = 0\n",
    "    for images, labels in test_loader:\n",
    "        outputs = model(images)\n",
    "        _, predicted = torch.max(outputs.data, 1)\n",
    "        total += labels.size(0)\n",
    "        correct += (predicted == labels).sum().item()\n",
    "\n",
    "    print(f'Accuracy of the model on the test images: {100 * correct / total:.2f}%')\n"
   ]
  },
  {
   "cell_type": "code",
   "execution_count": 8,
   "id": "fb503972",
   "metadata": {},
   "outputs": [],
   "source": [
    "torch.cuda.empty_cache()"
   ]
  },
  {
   "cell_type": "code",
   "execution_count": 9,
   "id": "b81679af",
   "metadata": {},
   "outputs": [
    {
     "name": "stdout",
     "output_type": "stream",
     "text": [
      "==========================================================================================\n",
      "Layer (type:depth-idx)                   Output Shape              Param #\n",
      "==========================================================================================\n",
      "├─Conv2d: 1-1                            [-1, 32, 28, 28]          320\n",
      "├─ReLU: 1-2                              [-1, 32, 28, 28]          --\n",
      "├─MaxPool2d: 1-3                         [-1, 32, 14, 14]          --\n",
      "├─Conv2d: 1-4                            [-1, 64, 14, 14]          18,496\n",
      "├─ReLU: 1-5                              [-1, 64, 14, 14]          --\n",
      "├─MaxPool2d: 1-6                         [-1, 64, 7, 7]            --\n",
      "├─Dropout: 1-7                           [-1, 64, 7, 7]            --\n",
      "├─Linear: 1-8                            [-1, 10]                  31,370\n",
      "==========================================================================================\n",
      "Total params: 50,186\n",
      "Trainable params: 50,186\n",
      "Non-trainable params: 0\n",
      "Total mult-adds (M): 3.87\n",
      "==========================================================================================\n",
      "Input size (MB): 0.00\n",
      "Forward/backward pass size (MB): 0.29\n",
      "Params size (MB): 0.19\n",
      "Estimated Total Size (MB): 0.48\n",
      "==========================================================================================\n"
     ]
    },
    {
     "data": {
      "text/plain": [
       "==========================================================================================\n",
       "Layer (type:depth-idx)                   Output Shape              Param #\n",
       "==========================================================================================\n",
       "├─Conv2d: 1-1                            [-1, 32, 28, 28]          320\n",
       "├─ReLU: 1-2                              [-1, 32, 28, 28]          --\n",
       "├─MaxPool2d: 1-3                         [-1, 32, 14, 14]          --\n",
       "├─Conv2d: 1-4                            [-1, 64, 14, 14]          18,496\n",
       "├─ReLU: 1-5                              [-1, 64, 14, 14]          --\n",
       "├─MaxPool2d: 1-6                         [-1, 64, 7, 7]            --\n",
       "├─Dropout: 1-7                           [-1, 64, 7, 7]            --\n",
       "├─Linear: 1-8                            [-1, 10]                  31,370\n",
       "==========================================================================================\n",
       "Total params: 50,186\n",
       "Trainable params: 50,186\n",
       "Non-trainable params: 0\n",
       "Total mult-adds (M): 3.87\n",
       "==========================================================================================\n",
       "Input size (MB): 0.00\n",
       "Forward/backward pass size (MB): 0.29\n",
       "Params size (MB): 0.19\n",
       "Estimated Total Size (MB): 0.48\n",
       "=========================================================================================="
      ]
     },
     "execution_count": 9,
     "metadata": {},
     "output_type": "execute_result"
    }
   ],
   "source": [
    "from torchsummary import summary\n",
    "\n",
    "model = CNN()\n",
    "summary(model, (1, 28, 28))"
   ]
  },
  {
   "cell_type": "code",
   "execution_count": 10,
   "id": "e5dc6db0",
   "metadata": {},
   "outputs": [],
   "source": [
    "torch.save(model.state_dict(), \"Assignment.pt\")"
   ]
  },
  {
   "cell_type": "code",
   "execution_count": null,
   "id": "526e877a",
   "metadata": {},
   "outputs": [],
   "source": []
  }
 ],
 "metadata": {
  "kernelspec": {
   "display_name": "Python 3 (ipykernel)",
   "language": "python",
   "name": "python3"
  },
  "language_info": {
   "codemirror_mode": {
    "name": "ipython",
    "version": 3
   },
   "file_extension": ".py",
   "mimetype": "text/x-python",
   "name": "python",
   "nbconvert_exporter": "python",
   "pygments_lexer": "ipython3",
   "version": "3.11.9"
  }
 },
 "nbformat": 4,
 "nbformat_minor": 5
}
